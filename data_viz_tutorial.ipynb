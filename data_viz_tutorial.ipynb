{
 "cells": [
  {
   "cell_type": "code",
   "execution_count": 1,
   "metadata": {},
   "outputs": [],
   "source": [
    "import pandas as pd\n",
    "import numpy as np\n",
    "\n",
    "import matplotlib.pyplot as plt\n",
    "from IPython.display import HTML"
   ]
  },
  {
   "cell_type": "code",
   "execution_count": 2,
   "metadata": {},
   "outputs": [
    {
     "data": {
      "text/html": [
       "<div>\n",
       "<style scoped>\n",
       "    .dataframe tbody tr th:only-of-type {\n",
       "        vertical-align: middle;\n",
       "    }\n",
       "\n",
       "    .dataframe tbody tr th {\n",
       "        vertical-align: top;\n",
       "    }\n",
       "\n",
       "    .dataframe thead th {\n",
       "        text-align: right;\n",
       "    }\n",
       "</style>\n",
       "<table border=\"1\" class=\"dataframe\">\n",
       "  <thead>\n",
       "    <tr style=\"text-align: right;\">\n",
       "      <th></th>\n",
       "      <th>game_pk</th>\n",
       "      <th>game_date</th>\n",
       "      <th>at_bat_number</th>\n",
       "      <th>pitch_number</th>\n",
       "      <th>pitch_type</th>\n",
       "      <th>pitcher_name</th>\n",
       "      <th>pitcher</th>\n",
       "      <th>batter</th>\n",
       "      <th>catcher</th>\n",
       "      <th>description</th>\n",
       "      <th>zone</th>\n",
       "      <th>stand</th>\n",
       "      <th>p_throws</th>\n",
       "      <th>balls</th>\n",
       "      <th>strikes</th>\n",
       "      <th>plate_x</th>\n",
       "      <th>plate_z</th>\n",
       "      <th>sz_top</th>\n",
       "      <th>sz_bot</th>\n",
       "      <th>broadcast</th>\n",
       "    </tr>\n",
       "  </thead>\n",
       "  <tbody>\n",
       "    <tr>\n",
       "      <th>0</th>\n",
       "      <td>662588</td>\n",
       "      <td>4/9/22</td>\n",
       "      <td>51</td>\n",
       "      <td>6</td>\n",
       "      <td>CH</td>\n",
       "      <td>Bassitt, Chris</td>\n",
       "      <td>605135</td>\n",
       "      <td>605137</td>\n",
       "      <td>543510</td>\n",
       "      <td>called_strike</td>\n",
       "      <td>8.0</td>\n",
       "      <td>L</td>\n",
       "      <td>R</td>\n",
       "      <td>2</td>\n",
       "      <td>2</td>\n",
       "      <td>0.17</td>\n",
       "      <td>2.20</td>\n",
       "      <td>3.74</td>\n",
       "      <td>1.82</td>\n",
       "      <td>https://sporty-clips.mlb.com/1034420a-0db5-43b...</td>\n",
       "    </tr>\n",
       "    <tr>\n",
       "      <th>1</th>\n",
       "      <td>662588</td>\n",
       "      <td>4/9/22</td>\n",
       "      <td>51</td>\n",
       "      <td>5</td>\n",
       "      <td>FC</td>\n",
       "      <td>Bassitt, Chris</td>\n",
       "      <td>605135</td>\n",
       "      <td>605137</td>\n",
       "      <td>543510</td>\n",
       "      <td>ball</td>\n",
       "      <td>11.0</td>\n",
       "      <td>L</td>\n",
       "      <td>R</td>\n",
       "      <td>1</td>\n",
       "      <td>2</td>\n",
       "      <td>-0.92</td>\n",
       "      <td>5.43</td>\n",
       "      <td>3.75</td>\n",
       "      <td>1.83</td>\n",
       "      <td>https://sporty-clips.mlb.com/3c758e31-1f42-4ed...</td>\n",
       "    </tr>\n",
       "    <tr>\n",
       "      <th>2</th>\n",
       "      <td>662588</td>\n",
       "      <td>4/9/22</td>\n",
       "      <td>51</td>\n",
       "      <td>1</td>\n",
       "      <td>SL</td>\n",
       "      <td>Bassitt, Chris</td>\n",
       "      <td>605135</td>\n",
       "      <td>605137</td>\n",
       "      <td>543510</td>\n",
       "      <td>ball</td>\n",
       "      <td>14.0</td>\n",
       "      <td>L</td>\n",
       "      <td>R</td>\n",
       "      <td>0</td>\n",
       "      <td>0</td>\n",
       "      <td>0.86</td>\n",
       "      <td>1.28</td>\n",
       "      <td>3.51</td>\n",
       "      <td>1.58</td>\n",
       "      <td>https://sporty-clips.mlb.com/743d7d90-c6e5-40e...</td>\n",
       "    </tr>\n",
       "    <tr>\n",
       "      <th>3</th>\n",
       "      <td>662123</td>\n",
       "      <td>4/9/22</td>\n",
       "      <td>33</td>\n",
       "      <td>5</td>\n",
       "      <td>FF</td>\n",
       "      <td>Rodón, Carlos</td>\n",
       "      <td>607074</td>\n",
       "      <td>643265</td>\n",
       "      <td>663698</td>\n",
       "      <td>ball</td>\n",
       "      <td>11.0</td>\n",
       "      <td>R</td>\n",
       "      <td>L</td>\n",
       "      <td>1</td>\n",
       "      <td>2</td>\n",
       "      <td>-0.15</td>\n",
       "      <td>5.07</td>\n",
       "      <td>3.58</td>\n",
       "      <td>1.85</td>\n",
       "      <td>https://sporty-clips.mlb.com/042a29c4-504c-49c...</td>\n",
       "    </tr>\n",
       "    <tr>\n",
       "      <th>4</th>\n",
       "      <td>663205</td>\n",
       "      <td>4/9/22</td>\n",
       "      <td>37</td>\n",
       "      <td>7</td>\n",
       "      <td>SL</td>\n",
       "      <td>Woodruff, Brandon</td>\n",
       "      <td>605540</td>\n",
       "      <td>664023</td>\n",
       "      <td>605170</td>\n",
       "      <td>ball</td>\n",
       "      <td>14.0</td>\n",
       "      <td>L</td>\n",
       "      <td>R</td>\n",
       "      <td>2</td>\n",
       "      <td>2</td>\n",
       "      <td>1.46</td>\n",
       "      <td>2.40</td>\n",
       "      <td>3.40</td>\n",
       "      <td>1.60</td>\n",
       "      <td>https://sporty-clips.mlb.com/221061be-181c-43b...</td>\n",
       "    </tr>\n",
       "  </tbody>\n",
       "</table>\n",
       "</div>"
      ],
      "text/plain": [
       "   game_pk game_date  at_bat_number  pitch_number pitch_type  \\\n",
       "0   662588    4/9/22             51             6         CH   \n",
       "1   662588    4/9/22             51             5         FC   \n",
       "2   662588    4/9/22             51             1         SL   \n",
       "3   662123    4/9/22             33             5         FF   \n",
       "4   663205    4/9/22             37             7         SL   \n",
       "\n",
       "        pitcher_name  pitcher  batter  catcher    description  zone stand  \\\n",
       "0     Bassitt, Chris   605135  605137   543510  called_strike   8.0     L   \n",
       "1     Bassitt, Chris   605135  605137   543510           ball  11.0     L   \n",
       "2     Bassitt, Chris   605135  605137   543510           ball  14.0     L   \n",
       "3      Rodón, Carlos   607074  643265   663698           ball  11.0     R   \n",
       "4  Woodruff, Brandon   605540  664023   605170           ball  14.0     L   \n",
       "\n",
       "  p_throws  balls  strikes  plate_x  plate_z  sz_top  sz_bot  \\\n",
       "0        R      2        2     0.17     2.20    3.74    1.82   \n",
       "1        R      1        2    -0.92     5.43    3.75    1.83   \n",
       "2        R      0        0     0.86     1.28    3.51    1.58   \n",
       "3        L      1        2    -0.15     5.07    3.58    1.85   \n",
       "4        R      2        2     1.46     2.40    3.40    1.60   \n",
       "\n",
       "                                           broadcast  \n",
       "0  https://sporty-clips.mlb.com/1034420a-0db5-43b...  \n",
       "1  https://sporty-clips.mlb.com/3c758e31-1f42-4ed...  \n",
       "2  https://sporty-clips.mlb.com/743d7d90-c6e5-40e...  \n",
       "3  https://sporty-clips.mlb.com/042a29c4-504c-49c...  \n",
       "4  https://sporty-clips.mlb.com/221061be-181c-43b...  "
      ]
     },
     "execution_count": 2,
     "metadata": {},
     "output_type": "execute_result"
    }
   ],
   "source": [
    "pitch_df = pd.read_csv(\"k_prob.csv\")\n",
    "pitch_df.head()"
   ]
  },
  {
   "cell_type": "code",
   "execution_count": 3,
   "metadata": {},
   "outputs": [],
   "source": [
    "def view_video(data_url):\n",
    "    \"\"\" view_video returns an HTML object to play\n",
    "    a video\n",
    "\n",
    "    @param file_name (str): File path to .mp4 file\n",
    "\n",
    "    Returns:\n",
    "\n",
    "        - html (HTML object): HTML object to view video\n",
    "    \"\"\"\n",
    "\n",
    "    html = HTML(\"\"\"\n",
    "                <video width=700 controls>\n",
    "                      <source src=\"%s\" type=\"video/mp4\">\n",
    "                </video>\n",
    "                \"\"\" % data_url)\n",
    "    return html"
   ]
  },
  {
   "cell_type": "code",
   "execution_count": 4,
   "metadata": {},
   "outputs": [
    {
     "data": {
      "text/html": [
       "\n",
       "                <video width=700 controls>\n",
       "                      <source src=\"https://sporty-clips.mlb.com/1034420a-0db5-43b8-96c6-b5d14b4c969a.mp4\" type=\"video/mp4\">\n",
       "                </video>\n",
       "                "
      ],
      "text/plain": [
       "<IPython.core.display.HTML object>"
      ]
     },
     "execution_count": 4,
     "metadata": {},
     "output_type": "execute_result"
    }
   ],
   "source": [
    "example_pitch = pitch_df.iloc[0]\n",
    "view_video(example_pitch[\"broadcast\"])"
   ]
  },
  {
   "cell_type": "code",
   "execution_count": 5,
   "metadata": {},
   "outputs": [
    {
     "data": {
      "text/plain": [
       "game_pk                                                     662588\n",
       "game_date                                                   4/9/22\n",
       "at_bat_number                                                   51\n",
       "pitch_number                                                     6\n",
       "pitch_type                                                      CH\n",
       "pitcher_name                                        Bassitt, Chris\n",
       "pitcher                                                     605135\n",
       "batter                                                      605137\n",
       "catcher                                                     543510\n",
       "description                                          called_strike\n",
       "zone                                                             8\n",
       "stand                                                            L\n",
       "p_throws                                                         R\n",
       "balls                                                            2\n",
       "strikes                                                          2\n",
       "plate_x                                                       0.17\n",
       "plate_z                                                        2.2\n",
       "sz_top                                                        3.74\n",
       "sz_bot                                                        1.82\n",
       "broadcast        https://sporty-clips.mlb.com/1034420a-0db5-43b...\n",
       "Name: 0, dtype: object"
      ]
     },
     "execution_count": 5,
     "metadata": {},
     "output_type": "execute_result"
    }
   ],
   "source": [
    "example_pitch"
   ]
  },
  {
   "cell_type": "code",
   "execution_count": 6,
   "metadata": {},
   "outputs": [
    {
     "data": {
      "image/png": "[encoded data removed]",
      "text/plain": [
       "<matplotlib.figure.Figure at 0x7f10e30f3790>"
      ]
     },
     "metadata": {
      "needs_background": "light"
     },
     "output_type": "display_data"
    }
   ],
   "source": [
    "# Initialize figure\n",
    "fig = plt.figure()\n",
    "axis = fig.add_subplot(111)\n",
    "\n",
    "# Establish boundaries\n",
    "width = 17 / 12 # width of home plate\n",
    "left = -width/2\n",
    "right = width/2\n",
    "bottom = 1.5 # feet\n",
    "top = 3.5\n",
    "\n",
    "# Drawing the strike boundaries\n",
    "axis.plot([left, right], [bottom, bottom], color = 'k')  # Lower boundary\n",
    "axis.plot([left, right], [top, top], color = 'k')  # Upper boundary\n",
    "axis.plot([right, right], [bottom, top], color = 'k')  # Right boundary\n",
    "axis.plot([left, left], [bottom, top], color = 'k')  # Left boundary\n",
    "\n",
    "axis.plot(example_pitch[\"plate_x\"], example_pitch[\"plate_z\"], marker='o', color='k')\n",
    "\n",
    "axis.set_xlim(-2.5, 2.5)\n",
    "axis.set_ylim(0, 5)\n",
    "\n",
    "plt.show()"
   ]
  },
  {
   "cell_type": "code",
   "execution_count": 7,
   "metadata": {},
   "outputs": [],
   "source": [
    "def view_pitch(pitch):\n",
    "    # Initialize figure\n",
    "    fig = plt.figure()\n",
    "    axis = fig.add_subplot(111)\n",
    "\n",
    "    # Establish boundaries\n",
    "    width = 17 / 12 # width of home plate\n",
    "    left = -width/2\n",
    "    right = width/2\n",
    "    bottom = pitch[\"sz_bot\"] # feet\n",
    "    top = pitch[\"sz_top\"]\n",
    "    height = top - bottom\n",
    "\n",
    "    # Strikezone boundary\n",
    "    axis.plot([left, right], [bottom, bottom], color = 'k')  # Lower boundary\n",
    "    axis.plot([left, right], [top, top], color = 'k')  # Upper boundary\n",
    "    axis.plot([right, right], [bottom, top], color = 'k')  # Right boundary\n",
    "    axis.plot([left, left], [bottom, top], color = 'k')  # Left boundary\n",
    "    \n",
    "    # Inner boxes\n",
    "    horizontal_locs = [left + width/3, left + 2*width/3]\n",
    "    vertical_locs = [bottom + height/3, bottom + 2*height/3]\n",
    "    \n",
    "    for horiz_loc in horizontal_locs:\n",
    "        axis.plot([horiz_loc, horiz_loc], [bottom, top], color = 'k')\n",
    "    \n",
    "    for vert_loc in vertical_locs:\n",
    "        axis.plot([left, right], [vert_loc, vert_loc], color = 'k')\n",
    "\n",
    "    # Plot pitch\n",
    "    axis.plot(pitch[\"plate_x\"], pitch[\"plate_z\"], marker='o', color='k')\n",
    "    \n",
    "    # Draw plate\n",
    "    axis.plot([0, width/2], [0, 0.25], color = 'k')\n",
    "    axis.plot([0, -width/2], [0, 0.25], color = 'k')\n",
    "    axis.plot([width/2, width/2], [0.25, 0.5], color = 'k')\n",
    "    axis.plot([-width/2, -width/2], [0.25, 0.5], color = 'k')\n",
    "    axis.plot([-width/2, width/2], [0.5, 0.5], color = 'k')\n",
    "\n",
    "    # Set axes limits\n",
    "    axis.set_xlim(-3, 3)\n",
    "    axis.set_ylim(0, 6)\n",
    "    \n",
    "    # Remove axis tick labels\n",
    "    axis.set_yticklabels([])\n",
    "    axis.set_xticklabels([])\n",
    "\n",
    "    \n",
    "    plt.show()\n",
    "    \n",
    "    video = view_video(pitch[\"broadcast\"])\n",
    "    return video"
   ]
  },
  {
   "cell_type": "code",
   "execution_count": 8,
   "metadata": {},
   "outputs": [
    {
     "data": {
      "image/png": "[encoded data removed]",
      "text/plain": [
       "<matplotlib.figure.Figure at 0x7f10e30fa8d0>"
      ]
     },
     "metadata": {
      "needs_background": "light"
     },
     "output_type": "display_data"
    },
    {
     "data": {
      "text/html": [
       "\n",
       "                <video width=700 controls>\n",
       "                      <source src=\"https://sporty-clips.mlb.com/7e75de01-5a20-4e1a-9f80-a4373eb9b1e1.mp4\" type=\"video/mp4\">\n",
       "                </video>\n",
       "                "
      ],
      "text/plain": [
       "<IPython.core.display.HTML object>"
      ]
     },
     "execution_count": 8,
     "metadata": {},
     "output_type": "execute_result"
    }
   ],
   "source": [
    "index = 10\n",
    "video = view_pitch(pitch_df.iloc[index])\n",
    "video"
   ]
  },
  {
   "cell_type": "code",
   "execution_count": null,
   "metadata": {},
   "outputs": [],
   "source": []
  }
 ],
 "metadata": {
  "kernelspec": {
   "display_name": "Python 3",
   "language": "python",
   "name": "python3"
  },
  "language_info": {
   "codemirror_mode": {
    "name": "ipython",
    "version": 3
   },
   "file_extension": ".py",
   "mimetype": "text/x-python",
   "name": "python",
   "nbconvert_exporter": "python",
   "pygments_lexer": "ipython3",
   "version": "3.7.5"
  }
 },
 "nbformat": 4,
 "nbformat_minor": 2
}
