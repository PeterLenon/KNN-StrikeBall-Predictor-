{
 "cells": [
  {
   "cell_type": "code",
   "execution_count": 3,
   "id": "c429ff88",
   "metadata": {},
   "outputs": [],
   "source": [
    "import pandas as pd\n",
    "import numpy as np"
   ]
  },
  {
   "cell_type": "code",
   "execution_count": 6,
   "id": "11a08657",
   "metadata": {},
   "outputs": [],
   "source": [
    "dataset = pd.read_csv(\"/Users/emmanuel/Desktop/k_prob.csv\")"
   ]
  },
  {
   "cell_type": "code",
   "execution_count": 30,
   "id": "4044d096",
   "metadata": {},
   "outputs": [
    {
     "data": {
      "text/html": [
       "<div>\n",
       "<style scoped>\n",
       "    .dataframe tbody tr th:only-of-type {\n",
       "        vertical-align: middle;\n",
       "    }\n",
       "\n",
       "    .dataframe tbody tr th {\n",
       "        vertical-align: top;\n",
       "    }\n",
       "\n",
       "    .dataframe thead th {\n",
       "        text-align: right;\n",
       "    }\n",
       "</style>\n",
       "<table border=\"1\" class=\"dataframe\">\n",
       "  <thead>\n",
       "    <tr style=\"text-align: right;\">\n",
       "      <th></th>\n",
       "      <th>game_pk</th>\n",
       "      <th>game_date</th>\n",
       "      <th>at_bat_number</th>\n",
       "      <th>pitch_number</th>\n",
       "      <th>pitch_type</th>\n",
       "      <th>pitcher_name</th>\n",
       "      <th>pitcher</th>\n",
       "      <th>batter</th>\n",
       "      <th>catcher</th>\n",
       "      <th>description</th>\n",
       "      <th>zone</th>\n",
       "      <th>stand</th>\n",
       "      <th>p_throws</th>\n",
       "      <th>balls</th>\n",
       "      <th>strikes</th>\n",
       "      <th>plate_x</th>\n",
       "      <th>plate_z</th>\n",
       "      <th>sz_top</th>\n",
       "      <th>sz_bot</th>\n",
       "      <th>broadcast</th>\n",
       "    </tr>\n",
       "  </thead>\n",
       "  <tbody>\n",
       "    <tr>\n",
       "      <th>0</th>\n",
       "      <td>662588</td>\n",
       "      <td>4/9/22</td>\n",
       "      <td>51</td>\n",
       "      <td>6</td>\n",
       "      <td>CH</td>\n",
       "      <td>Bassitt, Chris</td>\n",
       "      <td>605135</td>\n",
       "      <td>605137</td>\n",
       "      <td>543510</td>\n",
       "      <td>called_strike</td>\n",
       "      <td>8.0</td>\n",
       "      <td>L</td>\n",
       "      <td>R</td>\n",
       "      <td>2</td>\n",
       "      <td>2</td>\n",
       "      <td>0.17</td>\n",
       "      <td>2.20</td>\n",
       "      <td>3.74</td>\n",
       "      <td>1.82</td>\n",
       "      <td>https://sporty-clips.mlb.com/1034420a-0db5-43b...</td>\n",
       "    </tr>\n",
       "    <tr>\n",
       "      <th>1</th>\n",
       "      <td>662588</td>\n",
       "      <td>4/9/22</td>\n",
       "      <td>51</td>\n",
       "      <td>5</td>\n",
       "      <td>FC</td>\n",
       "      <td>Bassitt, Chris</td>\n",
       "      <td>605135</td>\n",
       "      <td>605137</td>\n",
       "      <td>543510</td>\n",
       "      <td>ball</td>\n",
       "      <td>11.0</td>\n",
       "      <td>L</td>\n",
       "      <td>R</td>\n",
       "      <td>1</td>\n",
       "      <td>2</td>\n",
       "      <td>-0.92</td>\n",
       "      <td>5.43</td>\n",
       "      <td>3.75</td>\n",
       "      <td>1.83</td>\n",
       "      <td>https://sporty-clips.mlb.com/3c758e31-1f42-4ed...</td>\n",
       "    </tr>\n",
       "    <tr>\n",
       "      <th>2</th>\n",
       "      <td>662588</td>\n",
       "      <td>4/9/22</td>\n",
       "      <td>51</td>\n",
       "      <td>1</td>\n",
       "      <td>SL</td>\n",
       "      <td>Bassitt, Chris</td>\n",
       "      <td>605135</td>\n",
       "      <td>605137</td>\n",
       "      <td>543510</td>\n",
       "      <td>ball</td>\n",
       "      <td>14.0</td>\n",
       "      <td>L</td>\n",
       "      <td>R</td>\n",
       "      <td>0</td>\n",
       "      <td>0</td>\n",
       "      <td>0.86</td>\n",
       "      <td>1.28</td>\n",
       "      <td>3.51</td>\n",
       "      <td>1.58</td>\n",
       "      <td>https://sporty-clips.mlb.com/743d7d90-c6e5-40e...</td>\n",
       "    </tr>\n",
       "    <tr>\n",
       "      <th>3</th>\n",
       "      <td>662123</td>\n",
       "      <td>4/9/22</td>\n",
       "      <td>33</td>\n",
       "      <td>5</td>\n",
       "      <td>FF</td>\n",
       "      <td>Rodón, Carlos</td>\n",
       "      <td>607074</td>\n",
       "      <td>643265</td>\n",
       "      <td>663698</td>\n",
       "      <td>ball</td>\n",
       "      <td>11.0</td>\n",
       "      <td>R</td>\n",
       "      <td>L</td>\n",
       "      <td>1</td>\n",
       "      <td>2</td>\n",
       "      <td>-0.15</td>\n",
       "      <td>5.07</td>\n",
       "      <td>3.58</td>\n",
       "      <td>1.85</td>\n",
       "      <td>https://sporty-clips.mlb.com/042a29c4-504c-49c...</td>\n",
       "    </tr>\n",
       "    <tr>\n",
       "      <th>4</th>\n",
       "      <td>663205</td>\n",
       "      <td>4/9/22</td>\n",
       "      <td>37</td>\n",
       "      <td>7</td>\n",
       "      <td>SL</td>\n",
       "      <td>Woodruff, Brandon</td>\n",
       "      <td>605540</td>\n",
       "      <td>664023</td>\n",
       "      <td>605170</td>\n",
       "      <td>ball</td>\n",
       "      <td>14.0</td>\n",
       "      <td>L</td>\n",
       "      <td>R</td>\n",
       "      <td>2</td>\n",
       "      <td>2</td>\n",
       "      <td>1.46</td>\n",
       "      <td>2.40</td>\n",
       "      <td>3.40</td>\n",
       "      <td>1.60</td>\n",
       "      <td>https://sporty-clips.mlb.com/221061be-181c-43b...</td>\n",
       "    </tr>\n",
       "  </tbody>\n",
       "</table>\n",
       "</div>"
      ],
      "text/plain": [
       "   game_pk game_date  at_bat_number  pitch_number pitch_type  \\\n",
       "0   662588    4/9/22             51             6         CH   \n",
       "1   662588    4/9/22             51             5         FC   \n",
       "2   662588    4/9/22             51             1         SL   \n",
       "3   662123    4/9/22             33             5         FF   \n",
       "4   663205    4/9/22             37             7         SL   \n",
       "\n",
       "        pitcher_name  pitcher  batter  catcher    description  zone stand  \\\n",
       "0     Bassitt, Chris   605135  605137   543510  called_strike   8.0     L   \n",
       "1     Bassitt, Chris   605135  605137   543510           ball  11.0     L   \n",
       "2     Bassitt, Chris   605135  605137   543510           ball  14.0     L   \n",
       "3      Rodón, Carlos   607074  643265   663698           ball  11.0     R   \n",
       "4  Woodruff, Brandon   605540  664023   605170           ball  14.0     L   \n",
       "\n",
       "  p_throws  balls  strikes  plate_x  plate_z  sz_top  sz_bot  \\\n",
       "0        R      2        2     0.17     2.20    3.74    1.82   \n",
       "1        R      1        2    -0.92     5.43    3.75    1.83   \n",
       "2        R      0        0     0.86     1.28    3.51    1.58   \n",
       "3        L      1        2    -0.15     5.07    3.58    1.85   \n",
       "4        R      2        2     1.46     2.40    3.40    1.60   \n",
       "\n",
       "                                           broadcast  \n",
       "0  https://sporty-clips.mlb.com/1034420a-0db5-43b...  \n",
       "1  https://sporty-clips.mlb.com/3c758e31-1f42-4ed...  \n",
       "2  https://sporty-clips.mlb.com/743d7d90-c6e5-40e...  \n",
       "3  https://sporty-clips.mlb.com/042a29c4-504c-49c...  \n",
       "4  https://sporty-clips.mlb.com/221061be-181c-43b...  "
      ]
     },
     "execution_count": 30,
     "metadata": {},
     "output_type": "execute_result"
    }
   ],
   "source": [
    "dataset.head()"
   ]
  },
  {
   "cell_type": "code",
   "execution_count": 31,
   "id": "e5af4eac",
   "metadata": {},
   "outputs": [],
   "source": [
    "data_set = data_set.dropna()"
   ]
  },
  {
   "cell_type": "code",
   "execution_count": 32,
   "id": "a6e88177",
   "metadata": {},
   "outputs": [
    {
     "name": "stdout",
     "output_type": "stream",
     "text": [
      "game_pk          0\n",
      "game_date        0\n",
      "at_bat_number    0\n",
      "pitch_number     0\n",
      "pitch_type       0\n",
      "pitcher_name     0\n",
      "pitcher          0\n",
      "batter           0\n",
      "catcher          0\n",
      "description      0\n",
      "zone             0\n",
      "stand            0\n",
      "p_throws         0\n",
      "balls            0\n",
      "strikes          0\n",
      "plate_x          0\n",
      "plate_z          0\n",
      "sz_top           0\n",
      "sz_bot           0\n",
      "broadcast        0\n",
      "dtype: int64\n"
     ]
    }
   ],
   "source": [
    "print(data_set.isnull().sum())"
   ]
  },
  {
   "cell_type": "code",
   "execution_count": 33,
   "id": "1d0d1376",
   "metadata": {},
   "outputs": [],
   "source": [
    ">>> to_drop = ['game_pk','game_date','at_bat_number','pitch_number','pitch_type','pitcher_name','pitcher','batter',\n",
    "...            'catcher','zone','stand','p_throws','balls','strikes','sz_top','sz_bot','broadcast']\n",
    "\n",
    "data_set.drop(to_drop, inplace=True, axis=1)"
   ]
  },
  {
   "cell_type": "code",
   "execution_count": 34,
   "id": "99f41403",
   "metadata": {},
   "outputs": [
    {
     "name": "stderr",
     "output_type": "stream",
     "text": [
      "/var/folders/yn/vgpb_b614n310mn6t3psxtx40000gn/T/ipykernel_22744/3784546785.py:1: SettingWithCopyWarning: \n",
      "A value is trying to be set on a copy of a slice from a DataFrame\n",
      "\n",
      "See the caveats in the documentation: https://pandas.pydata.org/pandas-docs/stable/user_guide/indexing.html#returning-a-view-versus-a-copy\n",
      "  data_set.description[data_set['description'] == 'called_strike'] = 0\n",
      "/var/folders/yn/vgpb_b614n310mn6t3psxtx40000gn/T/ipykernel_22744/3784546785.py:2: SettingWithCopyWarning: \n",
      "A value is trying to be set on a copy of a slice from a DataFrame\n",
      "\n",
      "See the caveats in the documentation: https://pandas.pydata.org/pandas-docs/stable/user_guide/indexing.html#returning-a-view-versus-a-copy\n",
      "  data_set.description[data_set['description'] == 'ball'] = 1\n"
     ]
    }
   ],
   "source": [
    "data_set.description[data_set['description'] == 'called_strike'] = 0\n",
    "data_set.description[data_set['description'] == 'ball'] = 1"
   ]
  },
  {
   "cell_type": "code",
   "execution_count": 35,
   "id": "88c1a31e",
   "metadata": {},
   "outputs": [
    {
     "name": "stdout",
     "output_type": "stream",
     "text": [
      "  description  plate_x  plate_z\n",
      "0           0     0.17     2.20\n",
      "1           1    -0.92     5.43\n",
      "2           1     0.86     1.28\n",
      "3           1    -0.15     5.07\n",
      "4           1     1.46     2.40\n",
      "5           1    -0.57     0.67\n",
      "6           1    -0.84     0.15\n",
      "7           1    -1.00     4.76\n",
      "8           1    -1.77     2.97\n",
      "9           1     0.52     1.05\n"
     ]
    },
    {
     "data": {
      "text/plain": [
       "1    235067\n",
       "0    115797\n",
       "Name: description, dtype: int64"
      ]
     },
     "execution_count": 35,
     "metadata": {},
     "output_type": "execute_result"
    }
   ],
   "source": [
    "print(data_set.head(10))\n",
    "data_set['description'].value_counts()"
   ]
  },
  {
   "cell_type": "code",
   "execution_count": 36,
   "id": "47799ae9",
   "metadata": {},
   "outputs": [],
   "source": [
    "p_pos = ['plate_x', 'plate_z']\n",
    "X = data_set[p_pos] # Features\n",
    "y = data_set.description # Target variable\n",
    "y = y.astype(\"str\")"
   ]
  },
  {
   "cell_type": "code",
   "execution_count": 37,
   "id": "bf791445",
   "metadata": {},
   "outputs": [],
   "source": [
    "from sklearn.model_selection import train_test_split\n",
    "X_train, X_test, y_train, y_test = train_test_split(X, y, test_size=0.2, random_state=0)"
   ]
  },
  {
   "cell_type": "code",
   "execution_count": 38,
   "id": "3db878b5",
   "metadata": {},
   "outputs": [],
   "source": [
    "from sklearn.preprocessing import StandardScaler\n",
    "sc = StandardScaler()\n",
    "X_train = sc.fit_transform(X_train)\n",
    "X_test = sc.fit_transform(X_test)"
   ]
  },
  {
   "cell_type": "code",
   "execution_count": 40,
   "id": "e5df0c8b",
   "metadata": {},
   "outputs": [],
   "source": [
    "from sklearn.ensemble import RandomForestClassifier\n",
    "classifier = RandomForestClassifier(n_estimators=20, random_state=0)\n",
    "classifier.fit(X_train, y_train)\n",
    "y_pred = classifier.predict(X_test)"
   ]
  },
  {
   "cell_type": "code",
   "execution_count": 42,
   "id": "c5a837e4",
   "metadata": {},
   "outputs": [
    {
     "name": "stdout",
     "output_type": "stream",
     "text": [
      "Accuracy for Random Forests is 90.80273039488122 %\n",
      "Confusion Matrix\n",
      "[[19806  3336]\n",
      " [ 3118 43913]]\n"
     ]
    }
   ],
   "source": [
    "from sklearn.metrics import classification_report, confusion_matrix, accuracy_score\n",
    "accuracy = accuracy_score(y_test,y_pred)*100\n",
    "confusion_mat = confusion_matrix(y_test,y_pred)\n",
    "print(\"Accuracy for Random Forests is\",accuracy,\"%\")\n",
    "print(\"Confusion Matrix\")\n",
    "print(confusion_mat)"
   ]
  },
  {
   "cell_type": "code",
   "execution_count": null,
   "id": "ff4e352a",
   "metadata": {},
   "outputs": [],
   "source": []
  }
 ],
 "metadata": {
  "kernelspec": {
   "display_name": "Python 3 (ipykernel)",
   "language": "python",
   "name": "python3"
  },
  "language_info": {
   "codemirror_mode": {
    "name": "ipython",
    "version": 3
   },
   "file_extension": ".py",
   "mimetype": "text/x-python",
   "name": "python",
   "nbconvert_exporter": "python",
   "pygments_lexer": "ipython3",
   "version": "3.9.13"
  }
 },
 "nbformat": 4,
 "nbformat_minor": 5
}
