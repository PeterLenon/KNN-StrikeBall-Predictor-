{
 "cells": [
  {
   "cell_type": "code",
   "execution_count": 98,
   "id": "c2db22fa",
   "metadata": {},
   "outputs": [],
   "source": [
    "import os\n",
    "import pandas as pd\n",
    "import numpy as np\n",
    "data_set = pd.read_csv(\"C:\\\\Users\\\\amyko\\\\Desktop\\\\SwacPhillies\\\\k_prob.csv\")\n",
    "from sklearn.linear_model import LogisticRegression\n",
    "from sklearn.model_selection import train_test_split\n",
    "from sklearn.datasets import load_wine \n",
    "from sklearn.metrics import confusion_matrix, accuracy_score "
   ]
  },
  {
   "cell_type": "code",
   "execution_count": 99,
   "id": "62aa0ea5",
   "metadata": {},
   "outputs": [],
   "source": [
    "data_set = data_set.dropna()"
   ]
  },
  {
   "cell_type": "code",
   "execution_count": 100,
   "id": "bf0de612",
   "metadata": {},
   "outputs": [
    {
     "name": "stdout",
     "output_type": "stream",
     "text": [
      "game_pk          0\n",
      "game_date        0\n",
      "at_bat_number    0\n",
      "pitch_number     0\n",
      "pitch_type       0\n",
      "pitcher_name     0\n",
      "pitcher          0\n",
      "batter           0\n",
      "catcher          0\n",
      "description      0\n",
      "zone             0\n",
      "stand            0\n",
      "p_throws         0\n",
      "balls            0\n",
      "strikes          0\n",
      "plate_x          0\n",
      "plate_z          0\n",
      "sz_top           0\n",
      "sz_bot           0\n",
      "broadcast        0\n",
      "dtype: int64\n"
     ]
    }
   ],
   "source": [
    "print(data_set.isnull().sum())"
   ]
  },
  {
   "cell_type": "code",
   "execution_count": 101,
   "id": "d0ee79e5",
   "metadata": {},
   "outputs": [],
   "source": [
    ">>> to_drop = ['game_pk','game_date','at_bat_number','pitch_number','pitch_type','pitcher_name','pitcher','batter',\n",
    "...            'catcher','zone','stand','p_throws','balls','strikes','sz_top','sz_bot','broadcast']\n",
    "\n",
    "data_set.drop(to_drop, inplace=True, axis=1)"
   ]
  },
  {
   "cell_type": "code",
   "execution_count": 102,
   "id": "d08f1110",
   "metadata": {},
   "outputs": [
    {
     "name": "stderr",
     "output_type": "stream",
     "text": [
      "C:\\Users\\amyko\\AppData\\Local\\Temp\\ipykernel_23088\\46104129.py:2: SettingWithCopyWarning: \n",
      "A value is trying to be set on a copy of a slice from a DataFrame\n",
      "\n",
      "See the caveats in the documentation: https://pandas.pydata.org/pandas-docs/stable/user_guide/indexing.html#returning-a-view-versus-a-copy\n",
      "  data_set.description[data_set['description'] == 'called_strike'] = 0\n",
      "C:\\Users\\amyko\\AppData\\Local\\Temp\\ipykernel_23088\\46104129.py:3: SettingWithCopyWarning: \n",
      "A value is trying to be set on a copy of a slice from a DataFrame\n",
      "\n",
      "See the caveats in the documentation: https://pandas.pydata.org/pandas-docs/stable/user_guide/indexing.html#returning-a-view-versus-a-copy\n",
      "  data_set.description[data_set['description'] == 'ball'] = 1\n"
     ]
    }
   ],
   "source": [
    "# ball=1 called_strike=0\n",
    "data_set.description[data_set['description'] == 'called_strike'] = 0\n",
    "data_set.description[data_set['description'] == 'ball'] = 1"
   ]
  },
  {
   "cell_type": "code",
   "execution_count": 103,
   "id": "d2a581f9",
   "metadata": {},
   "outputs": [
    {
     "name": "stdout",
     "output_type": "stream",
     "text": [
      "  description  plate_x  plate_z\n",
      "0           0     0.17     2.20\n",
      "1           1    -0.92     5.43\n",
      "2           1     0.86     1.28\n",
      "3           1    -0.15     5.07\n",
      "4           1     1.46     2.40\n",
      "5           1    -0.57     0.67\n",
      "6           1    -0.84     0.15\n",
      "7           1    -1.00     4.76\n",
      "8           1    -1.77     2.97\n",
      "9           1     0.52     1.05\n"
     ]
    },
    {
     "data": {
      "text/plain": [
       "1    235067\n",
       "0    115797\n",
       "Name: description, dtype: int64"
      ]
     },
     "execution_count": 103,
     "metadata": {},
     "output_type": "execute_result"
    }
   ],
   "source": [
    "print(data_set.head(10))\n",
    "data_set['description'].value_counts()"
   ]
  },
  {
   "cell_type": "code",
   "execution_count": 104,
   "id": "beded5ad",
   "metadata": {},
   "outputs": [],
   "source": [
    "#split dataset in features and target variable\n",
    "p_pos = ['plate_x', 'plate_z']\n",
    "X = data_set[p_pos] # Features\n",
    "y = data_set.description # Target variable\n",
    "y = y.astype(\"str\")"
   ]
  },
  {
   "cell_type": "code",
   "execution_count": 108,
   "id": "85aaf897",
   "metadata": {},
   "outputs": [],
   "source": [
    "# Splitting the data test into train 80% and test 20%.\n",
    "# x_train, y_train are training data and labels respectively \n",
    "# x_test, y_test are testing data and labels respectively \n",
    "X_train, X_test, y_train, y_test = train_test_split(X, y, test_size=0.2)"
   ]
  },
  {
   "cell_type": "code",
   "execution_count": 109,
   "id": "6bf958dd",
   "metadata": {},
   "outputs": [],
   "source": [
    "# Making the logistic regression model\n",
    "logistic_model = LogisticRegression()\n",
    "# Training the model on the training data and labels\n",
    "logistic_model.fit(X_train, y_train)\n",
    "# Using the model to predict the labels of the test data\n",
    "y_pred = logistic_model.predict(X_test)"
   ]
  },
  {
   "cell_type": "code",
   "execution_count": 112,
   "id": "af5a610f",
   "metadata": {},
   "outputs": [
    {
     "name": "stdout",
     "output_type": "stream",
     "text": [
      "Accuracy for Logistic Regression is 67.01580379918201 %\n",
      "Confusion Matrix\n",
      "[[    0 23145]\n",
      " [    1 47027]]\n"
     ]
    }
   ],
   "source": [
    "# Evaluating the accuracy of the model using the sklearn functions\n",
    "accuracy = accuracy_score(y_test,y_pred)*100\n",
    "confusion_mat = confusion_matrix(y_test,y_pred)\n",
    "# Printing the results\n",
    "print(\"Accuracy for Logistic Regression is\",accuracy,\"%\")\n",
    "print(\"Confusion Matrix\")\n",
    "print(confusion_mat)"
   ]
  },
  {
   "cell_type": "code",
   "execution_count": null,
   "id": "7017b34a",
   "metadata": {},
   "outputs": [],
   "source": [
    "from sklearn.model_selection import train_test_split\n",
    "res = train_test_split(data, labels, \n",
    "                       train_size=0.8,\n",
    "                       test_size=0.2,\n",
    "                       random_state=1)\n",
    "\n",
    "train_data, test_data, train_labels, test_labels = res \n",
    "\n",
    "# Create and fit a nearest-neighbor classifier\n",
    "from sklearn.neighbors import KNeighborsClassifier\n",
    "knn = KNeighborsClassifier()\n",
    "knn.fit(train_data, train_labels) \n",
    "\n",
    "predicted = knn.predict(test_data)\n",
    "print(\"Predictions from the classifier:\")\n",
    "print(predicted)\n",
    "print(\"Target values:\")\n",
    "print(test_labels)\n",
    "\n",
    "    \n",
    "from sklearn.metrics import accuracy_score\n",
    "example_predictions = [0, 2, 1, 3, 2, 0, 1]\n",
    "example_labels      = [0, 1, 2, 3, 2, 1, 1]\n",
    "print(accuracy_score(example_predictions, example_labels))\n",
    "OUTPUT:"
   ]
  },
  {
   "cell_type": "code",
   "execution_count": null,
   "id": "1e1d4a0a",
   "metadata": {},
   "outputs": [],
   "source": []
  }
 ],
 "metadata": {
  "kernelspec": {
   "display_name": "Python 3 (ipykernel)",
   "language": "python",
   "name": "python3"
  },
  "language_info": {
   "codemirror_mode": {
    "name": "ipython",
    "version": 3
   },
   "file_extension": ".py",
   "mimetype": "text/x-python",
   "name": "python",
   "nbconvert_exporter": "python",
   "pygments_lexer": "ipython3",
   "version": "3.9.13"
  }
 },
 "nbformat": 4,
 "nbformat_minor": 5
}
