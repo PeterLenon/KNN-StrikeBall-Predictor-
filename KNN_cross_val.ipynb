{
 "cells": [
  {
   "cell_type": "code",
   "execution_count": 13,
   "metadata": {},
   "outputs": [],
   "source": [
    "import numpy as np\n",
    "import matplotlib.pyplot as plt\n",
    "import pandas as pd"
   ]
  },
  {
   "cell_type": "code",
   "execution_count": 14,
   "metadata": {},
   "outputs": [
    {
     "name": "stderr",
     "output_type": "stream",
     "text": [
      "C:\\Users\\andre\\AppData\\Local\\Temp\\ipykernel_81564\\354896931.py:5: SettingWithCopyWarning: \n",
      "A value is trying to be set on a copy of a slice from a DataFrame\n",
      "\n",
      "See the caveats in the documentation: https://pandas.pydata.org/pandas-docs/stable/user_guide/indexing.html#returning-a-view-versus-a-copy\n",
      "  pitches.description[pitches['description'] == 'called_strike'] = 0\n",
      "C:\\Users\\andre\\AppData\\Local\\Temp\\ipykernel_81564\\354896931.py:6: SettingWithCopyWarning: \n",
      "A value is trying to be set on a copy of a slice from a DataFrame\n",
      "\n",
      "See the caveats in the documentation: https://pandas.pydata.org/pandas-docs/stable/user_guide/indexing.html#returning-a-view-versus-a-copy\n",
      "  pitches.description[pitches['description'] == 'ball'] = 1\n"
     ]
    }
   ],
   "source": [
    "pitches = pd.read_csv('k_prob.csv')\n",
    "\n",
    "#to_drop = ['game_pk','game_date','at_bat_number','pitch_number','pitch_type','pitcher_name','pitcher','batter','catcher','stand','p_throws','broadcast']\n",
    "#pitches.drop(to_drop, inplace=True, axis=1)\n",
    "pitches.description[pitches['description'] == 'called_strike'] = 0\n",
    "pitches.description[pitches['description'] == 'ball'] = 1\n",
    "pitches['description'].value_counts()\n",
    "pitches.dropna(inplace=True, axis=0) # drop all non number values"
   ]
  },
  {
   "cell_type": "code",
   "execution_count": 15,
   "metadata": {},
   "outputs": [],
   "source": [
    "#This is the normalisation section\n",
    "new_top = pitches['sz_top'].mean()\n",
    "new_bot = pitches['sz_bot'].mean()\n",
    "\n",
    "normalised_values = []\n",
    "\n",
    "for index, row in pitches.iterrows():\n",
    "    if row['plate_z'] > row['sz_top']:\n",
    "        normalised_values.append(row['plate_z'] - row['sz_top'] + new_top)\n",
    "    \n",
    "    elif row['plate_z'] < row['sz_bot']:\n",
    "        normalised_values.append(row['plate_z'] / row['sz_bot'] * new_bot)\n",
    "\n",
    "    else:\n",
    "        normalised_values.append((row['plate_z']-row['sz_bot']) / (row['sz_top']-row['sz_bot']) * (new_top-new_bot) + new_bot)\n",
    "\n",
    "pitches.insert(19,'Normalised_Values',normalised_values, True)\n",
    "#end of section"
   ]
  },
  {
   "cell_type": "code",
   "execution_count": 16,
   "metadata": {},
   "outputs": [],
   "source": [
    "p_pos = ['plate_x', 'Normalised_Values','zone', 'sz_top', 'sz_bot', 'strikes']\n",
    "X = pitches[p_pos] # Features\n",
    "y = pitches.description # Target variable\n",
    "y = y.astype(\"str\")\n"
   ]
  },
  {
   "cell_type": "code",
   "execution_count": 17,
   "metadata": {},
   "outputs": [
    {
     "name": "stdout",
     "output_type": "stream",
     "text": [
      "              precision    recall  f1-score   support\n",
      "\n",
      "           0       0.90      0.88      0.89     11562\n",
      "           1       0.94      0.95      0.95     23525\n",
      "\n",
      "    accuracy                           0.93     35087\n",
      "   macro avg       0.92      0.91      0.92     35087\n",
      "weighted avg       0.93      0.93      0.93     35087\n",
      "\n",
      "[[10129  1433]\n",
      " [ 1151 22374]]\n"
     ]
    }
   ],
   "source": [
    "from sklearn.model_selection import train_test_split\n",
    "X_train,X_test, y_train, y_test = train_test_split(X,y, test_size= 0.10)\n",
    "\n",
    "from sklearn.preprocessing import StandardScaler\n",
    "scaler = StandardScaler()\n",
    "scaler.fit(X_train)\n",
    "X_train = scaler.transform(X_train)\n",
    "X_test = scaler.transform(X_test)\n",
    "\n",
    "\n",
    "from sklearn.neighbors import KNeighborsClassifier\n",
    "classifier = KNeighborsClassifier(n_neighbors=15)\n",
    "classifier.fit(X_train,y_train)\n",
    "\n",
    "y_pred = classifier.predict(X_test)\n",
    "\n",
    "from sklearn.metrics import classification_report, confusion_matrix\n",
    "print(classification_report(y_test,y_pred))\n",
    "print(confusion_matrix(y_test, y_pred))"
   ]
  },
  {
   "cell_type": "code",
   "execution_count": 18,
   "metadata": {},
   "outputs": [
    {
     "name": "stdout",
     "output_type": "stream",
     "text": [
      "Array of scores for the Kfold = 10 validation\n",
      "[0.92567048 0.92951806 0.92854904 0.93131359 0.9305991  0.93173916\n",
      " 0.93048509 0.93384826 0.92903152 0.93225218]\n",
      "Average score for K = 10 KFold validation\n",
      "0.930300646835893\n"
     ]
    }
   ],
   "source": [
    "from sklearn.model_selection import cross_val_score\n",
    "\n",
    "print(\"Array of scores for the Kfold = 10 validation\")\n",
    "print(cross_val_score(classifier,X,y, cv = 10))\n",
    "\n",
    "print(\"Average score for K = 10 KFold validation\")\n",
    "print(np.mean(cross_val_score(classifier,X,y, cv = 10)))"
   ]
  },
  {
   "cell_type": "code",
   "execution_count": 19,
   "metadata": {},
   "outputs": [
    {
     "name": "stdout",
     "output_type": "stream",
     "text": [
      "0.9256704762447631\n",
      "0.9338482585646697\n"
     ]
    }
   ],
   "source": [
    "print(np.min(cross_val_score(classifier, X, y, cv=10)))\n",
    "print(np.max(cross_val_score(classifier, X, y, cv=10)))"
   ]
  }
 ],
 "metadata": {
  "kernelspec": {
   "display_name": "baseball_ds",
   "language": "python",
   "name": "python3"
  },
  "language_info": {
   "codemirror_mode": {
    "name": "ipython",
    "version": 3
   },
   "file_extension": ".py",
   "mimetype": "text/x-python",
   "name": "python",
   "nbconvert_exporter": "python",
   "pygments_lexer": "ipython3",
   "version": "3.9.13"
  },
  "orig_nbformat": 4,
  "vscode": {
   "interpreter": {
    "hash": "a104f5af15f083e5b67273841efd216eaf6aefe8ad9c1d808aa7e95c15d24a6d"
   }
  }
 },
 "nbformat": 4,
 "nbformat_minor": 2
}
